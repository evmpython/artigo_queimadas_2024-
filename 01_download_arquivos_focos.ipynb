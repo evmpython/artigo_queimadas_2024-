{
 "cells": [
  {
   "cell_type": "markdown",
   "id": "9508583b-dcd4-4dcc-9b5c-0b237345478b",
   "metadata": {
    "jp-MarkdownHeadingCollapsed": true
   },
   "source": [
    "# Função de download dos dados"
   ]
  },
  {
   "cell_type": "code",
   "execution_count": 7,
   "id": "5b9e0a0f-c672-48cf-8274-a1fb666689a7",
   "metadata": {},
   "outputs": [],
   "source": [
    "def download_focos(url, filename):\n",
    "    \n",
    "    import requests\n",
    "    import warnings\n",
    "    warnings.filterwarnings(\"ignore\")\n",
    "\n",
    "    url_filename = f'{url}{filename}'\n",
    "\n",
    "    myfile = requests.get(url_filename, verify=False)\n",
    "    \n",
    "    open(f'output/01_focos_raw/{filename}', 'wb').write(myfile.content)\n",
    "\n",
    "    return"
   ]
  },
  {
   "cell_type": "markdown",
   "id": "617cb03e-eeb3-4581-a3de-5e693d4c3f3c",
   "metadata": {},
   "source": [
    "# Download dos dados"
   ]
  },
  {
   "cell_type": "code",
   "execution_count": 8,
   "id": "1ff2de17-8385-4f44-8b1d-6933c1f12820",
   "metadata": {},
   "outputs": [],
   "source": [
    "import pandas as pd\n",
    "\n",
    "#==============================================================#\n",
    "#                         2003 à 2023\n",
    "#==============================================================#\n",
    "# Exemplo: focos_br_ref_2003.zip\n",
    "\n",
    "# ano inicial de final\n",
    "anoi, anof = '2003','2024'\n",
    "\n",
    "# ftp dos dados anual do satélite AQUA\n",
    "url = f'https://dataserver-coids.inpe.br/queimadas/queimadas/focos/csv/anual/Brasil_sat_ref/'\n",
    "\n",
    "# loop dos meses\n",
    "ano_mesi = f'{anoi}0101'\n",
    "ano_mesf = f'{anof}1201'\n",
    "\n",
    "for data in pd.date_range(ano_mesi, ano_mesf, freq='1Y'):\n",
    "\n",
    "    # estrai ano e mês\n",
    "    ano = data.strftime('%Y')\n",
    "    mes = data.strftime('%m')\n",
    "\n",
    "    # nome do arquivo\n",
    "    filename = f'focos_br_ref_{ano}.zip'\n",
    "\n",
    "    # baixa o arquivo\n",
    "    download_focos(url, filename)\n",
    "\n",
    "#==============================================================#\n",
    "#                         2024\n",
    "#==============================================================#\n",
    "# Exemplo: focos_mensal_br_202401.csv\n",
    "\n",
    "# ano atual\n",
    "datai = '20240101'\n",
    "dataf = '20250101'\n",
    "\n",
    "# ftp dos dados mensais\n",
    "url = f'https://dataserver-coids.inpe.br/queimadas/queimadas/focos/csv/mensal/Brasil/'\n",
    "\n",
    "# loop dos meses\n",
    "for data in pd.date_range(datai, dataf, freq='1M'):\n",
    "\n",
    "    # estrai ano e mês\n",
    "    ano = data.strftime('%Y')\n",
    "    mes = data.strftime('%m')\n",
    "\n",
    "    # baixa o arquivo\n",
    "    filename = f'focos_mensal_br_{ano}{mes}.csv'\n",
    "\n",
    "    # baixa o arquivo\n",
    "    download_focos(url, filename)"
   ]
  }
 ],
 "metadata": {
  "kernelspec": {
   "display_name": "Python 3 (ipykernel)",
   "language": "python",
   "name": "python3"
  },
  "language_info": {
   "codemirror_mode": {
    "name": "ipython",
    "version": 3
   },
   "file_extension": ".py",
   "mimetype": "text/x-python",
   "name": "python",
   "nbconvert_exporter": "python",
   "pygments_lexer": "ipython3",
   "version": "3.10.11"
  }
 },
 "nbformat": 4,
 "nbformat_minor": 5
}
